{
 "cells": [
  {
   "cell_type": "markdown",
   "metadata": {},
   "source": [
    "## Reto 8"
   ]
  },
  {
   "cell_type": "markdown",
   "metadata": {},
   "source": [
    "1. Imprimir un listado con los números del 1 al 100 cada uno con su respectivo cuadrado."
   ]
  },
  {
   "cell_type": "code",
   "execution_count": null,
   "metadata": {},
   "outputs": [],
   "source": [
    "range(1,101)# Genera la secuencia de numeros desde el 1 hasta el 100\n",
    "\n",
    "for num in range (1,101):\n",
    "    #Primero imprime cada numero que se encuentre en la secuencia y luego imprime su cuadrado\n",
    "    print(str(num)+\" su cuadrado es el número \" + str(num**2))"
   ]
  },
  {
   "cell_type": "markdown",
   "metadata": {},
   "source": [
    "2. Imprimir un listado con los números impares desde 1 hasta 999 y seguidamente otro listado con los números pares desde 2 hasta 1000."
   ]
  },
  {
   "cell_type": "code",
   "execution_count": null,
   "metadata": {},
   "outputs": [],
   "source": [
    "range(1000,1,2)#Secuencia de pares\n",
    "range(1,1001 )#Secuencia de impares\n",
    "\n",
    "#Bucle que permite tomar todos los números impares\n",
    "\n",
    "print(\"LISTA DE NÚMEROS IMPARES:\")\n",
    "for num in range(1,1001):\n",
    "    if num % 2 != 0:\n",
    "        print (num)\n",
    "\n",
    "#Bucle que permite tomar todos los números pares\n",
    "\n",
    "print(\"LISTA DE NÚMEROS PARES:\")\n",
    "for num in range(2,1001,2):\n",
    "        print(num)"
   ]
  },
  {
   "cell_type": "markdown",
   "metadata": {},
   "source": [
    "3. Imprimir los números pares en forma descendente hasta 2 que son menores o iguales a un número natural n ≥ 2 dado"
   ]
  },
  {
   "cell_type": "code",
   "execution_count": null,
   "metadata": {},
   "outputs": [],
   "source": [
    "#Numero n dado\n",
    "limite=int(input(\"Ingrese un número natural mayor o igual a 2: \"))\n",
    "range(1000,1,-2)#Numeros pares desde el 1000 hasta el 2\n",
    "\n",
    "#Bucle para tomar los valores menores o iguales al numero n dado\n",
    "\n",
    "for num in range(1000,1,-2):\n",
    "    if num <= limite:\n",
    "        print (num)"
   ]
  },
  {
   "cell_type": "markdown",
   "metadata": {},
   "source": [
    "4. Imprimir los números de 1 hasta un número natural n dado, cada uno con su respectivo factorial"
   ]
  },
  {
   "cell_type": "code",
   "execution_count": null,
   "metadata": {},
   "outputs": [],
   "source": [
    "limite = int(input(\"Ingrese un número natural: \")) #Número natural n, que limitara la lista\n",
    "range(limite+1)#Numeros desde 0 hasta el numero n\n",
    "factorial= 1\n",
    "\n",
    "#Bucle para sacarle factorial a cada numero hasta el número n\n",
    "\n",
    "for num in range(limite+1):\n",
    "\n",
    "    #Bucle que se encargará de fatorizar cada número\n",
    "\n",
    "    for x in range(1, num + 1 ):\n",
    "        factorial *= x\n",
    "    print(\"El factorial de \" + str(num) + \" es \" + str(factorial))\n",
    "    \n",
    "    factorial = 1#Se encarga de reiniciar el factorial para los proximos números"
   ]
  },
  {
   "cell_type": "markdown",
   "metadata": {},
   "source": [
    "5. Calcular el valor de 2 elevado a la potencia n usando ciclos for.\n"
   ]
  },
  {
   "cell_type": "code",
   "execution_count": null,
   "metadata": {},
   "outputs": [],
   "source": [
    "exponente= int(input(\"ingrese un número: \")) #Exponente de 2\n",
    "potencia = 1\n",
    "\n",
    "#Bucle encargado de multiplicar 2 la cantidad de veces que se le den a la variable \"exponente\"\n",
    "\n",
    "for poten in range(exponente):\n",
    "    potencia *= 2\n",
    "\n",
    "print(\"2 elevado al numero \" + str(exponente) + \" da como resultado \" + str(potencia)) "
   ]
  },
  {
   "cell_type": "markdown",
   "metadata": {},
   "source": [
    "6. Leer un número natural n, leer otro dato de tipo real x y calcular x^n usando ciclos for. Disclaimer: Trate de no utilizar el operador de potencia (**).\n"
   ]
  },
  {
   "cell_type": "code",
   "execution_count": null,
   "metadata": {},
   "outputs": [],
   "source": [
    "n= int(input(\"Ingrese un número natural: \")) #Exponente de x \n",
    "x = int(input(\"Ingrese un número real: \")) #Número al que se le va a sacar la potencia\n",
    "potencia = 1\n",
    "\n",
    "#Bucle encargado de multiplicar x la cantidad de veces que se le den a la variable \"n\"\n",
    "\n",
    "for poten in range(n):\n",
    "    potencia *= x\n",
    "\n",
    "print(str(x) + \" elevado al numero \" + str(n) + \" da como resultado \" + str(potencia)) "
   ]
  },
  {
   "cell_type": "markdown",
   "metadata": {},
   "source": [
    "7. Diseñe un programa que muestre las tablas de multiplicar del 1 al 9.\n"
   ]
  },
  {
   "cell_type": "code",
   "execution_count": null,
   "metadata": {},
   "outputs": [],
   "source": [
    "range(1,11) #Números del 1 a 10\n",
    "primero = 1 #Número base que se va multiplicar con los números del 1 al 10\n",
    "numeros = 1\n",
    "print(\"Tabla del 1:\") \n",
    "\n",
    "#Bucle encargado de multiplicar la variable \"primero\" con los números del 1 al 10\n",
    "\n",
    "for uno in range(1,11):\n",
    "    uno *=primero \n",
    "    print(\"1 X \" + str(numeros)+ \" = \" +str(uno) )\n",
    "    numeros += 1 \n",
    "\n",
    "\n",
    "segundo = 2\n",
    "numeros =1 \n",
    "print(\"Tabla del 2:\")\n",
    "\n",
    "#Bucle encargado de multiplicar la variable \"segundo\" con los números del 1 al 10\n",
    "\n",
    "for dos in range(1,11):\n",
    "    dos *=segundo \n",
    "    print(\"2 X \" + str(numeros)+ \" = \" +str(dos) )\n",
    "    numeros += 1 \n",
    "\n",
    "tercero = 3\n",
    "numeros = 1 \n",
    "\n",
    "#Bucle encargado de multiplicar la variable \"tercero\" con los números del 1 al 10\n",
    "\n",
    "print(\"Tabla del 3:\")\n",
    "for tres in range(1,11):\n",
    "    tres *=tercero \n",
    "    print(\"3 X \" + str(numeros)+ \" = \" +str(tres) )\n",
    "    numeros += 1 \n",
    "\n",
    "cuarto = 4\n",
    "numeros =1 \n",
    "print(\"Tabla del 4:\")\n",
    "\n",
    "#Bucle encargado de multiplicar la variable \"cuarto\" con los números del 1 al 10\n",
    "\n",
    "for cuatro in range(1,11):\n",
    "    cuatro *=cuarto \n",
    "    print(\"4 X \" + str(numeros)+ \" = \" +str(cuatro) )\n",
    "    numeros += 1 \n",
    "\n",
    "quinto = 5\n",
    "numeros =1 \n",
    "print(\"Tabla del 5:\")\n",
    "\n",
    "#Bucle encargado de multiplicar la variable \"quinto\" con los números del 1 al 10\n",
    "\n",
    "for cinco in range(1,11):\n",
    "    cinco *= quinto \n",
    "    print(\"5 X \" + str(numeros)+ \" = \" +str(cinco) )\n",
    "    numeros += 1 \n",
    "\n",
    "sexto = 6\n",
    "numeros =1 \n",
    "print(\"Tabla del 6:\")\n",
    "\n",
    "#Bucle encargado de multiplicar la variable \"sexto\" con los números del 1 al 10\n",
    "\n",
    "for seis in range(1,11):\n",
    "    seis *= sexto \n",
    "    print(\"6 X \" + str(numeros)+ \" = \" +str(seis) )\n",
    "    numeros += 1\n",
    "\n",
    "septimo = 7\n",
    "numeros = 1 \n",
    "print(\"Tabla del 7:\")\n",
    "\n",
    "#Bucle encargado de multiplicar la variable \"septimo\" con los números del 1 al 10\n",
    "\n",
    "for siete in range(1,11):\n",
    "    siete *= septimo \n",
    "    print(\"7 X \" + str(numeros)+ \" = \" +str(siete) )\n",
    "    numeros += 1\n",
    "\n",
    "octavo = 8\n",
    "numeros = 1\n",
    "print(\"Tabla del 8:\")\n",
    "\n",
    "#Bucle encargado de multiplicar la variable \"octavo\" con los números del 1 al 10\n",
    "\n",
    "for ocho in range(1,11):\n",
    "    ocho *= octavo\n",
    "    print(\"8 X \" + str(numeros) + \" = \" + str(ocho))\n",
    "    numeros += 1\n",
    "\n",
    "noveno= 9\n",
    "numeros = 1\n",
    "print(\"Tabla del 9:\")\n",
    "\n",
    "#Bucle encargado de multiplicar la variable \"noveno\" con los números del 1 al 10\n",
    "\n",
    "for nueve in range(1,11):\n",
    "    nueve *= noveno\n",
    "    print(\"9 X \" + str(numeros) + \" = \" + str(nueve))\n",
    "    numeros += 1"
   ]
  },
  {
   "cell_type": "markdown",
   "metadata": {},
   "source": [
    "8. Diseñar una función que permita calcular una aproximación de la función exponencial alrededor de 0 para cualquier valor x (real), utilizando los primeros n términos de la serie de Maclaurin. Nota: use math para traer la función exponencial y mostrar la diferencia entre el valor real y la aproximación.\n"
   ]
  },
  {
   "cell_type": "code",
   "execution_count": null,
   "metadata": {},
   "outputs": [],
   "source": [
    "import math \n",
    "\n",
    "x = float(input(\"Ingrese el valor de x para la aproximación de la función exponencial: \"))\n",
    "\n",
    "# Función para calcular un término de la serie de Maclaurin\n",
    "def maclaurin(x, n):\n",
    "    return (x ** n) / math.factorial(n)\n",
    "\n",
    "# Función para calcular la aproximación de la función exponencial utilizando los n primeros términos de la serie de Maclaurin\n",
    "def aproximacion_exponencial(x, n):\n",
    "    aprox = 0\n",
    "    for i in range(n):\n",
    "        aprox += maclaurin(x, i)\n",
    "    return aprox\n",
    "\n",
    "# Función para determinar el valor de n con menos del 0.1% de error\n",
    "def encontrar_n(x, error=0.001):\n",
    "    n = 1  \n",
    "    diferencia = 1.0 \n",
    "\n",
    "    #Bucle que busca el numero minimo de terminos de la serie Maclaurin necesarios\n",
    "\n",
    "    while diferencia > error:\n",
    "        aprox = aproximacion_exponencial(x, n)\n",
    "        real_exponencial = math.exp(x)\n",
    "        diferencia = abs(real_exponencial - aprox) / abs(real_exponencial)\n",
    "        n += 1\n",
    "    return n\n",
    "\n",
    "n = encontrar_n(x)\n",
    "aprox = aproximacion_exponencial(x, n)\n",
    "real_exponencial = math.exp(x)\n",
    "diferencia = real_exponencial - aprox\n",
    "\n",
    "print (\"Aproximación de la función exponencial: \" + str(aprox)+ \", valor real de la función exponencial: \" + str(real_exponencial) + \", su diferencia es \" +str(diferencia) + \" y el valor  de n para alcanzar el error de 0.001 : \" + str(n) )"
   ]
  },
  {
   "cell_type": "markdown",
   "metadata": {},
   "source": [
    "9. Diseñar una función que permita calcular una aproximación de la función seno alrededor de 0 para cualquier valor x (real), utilizando los primeros n términos de la serie de Maclaurin. Nota: use math para traer la función seno y mostrar la diferencia entre el valor real y la aproximación."
   ]
  },
  {
   "cell_type": "code",
   "execution_count": null,
   "metadata": {},
   "outputs": [],
   "source": [
    "import math\n",
    "\n",
    "x = float(input(\"Ingrese el valor de x para la aproximación de la función seno: \"))\n",
    "\n",
    "## Función para calcular la aproximación de la función seno\n",
    "\n",
    "def aprox_sin(x, n):\n",
    "    aprox = 0\n",
    "    for i in range(n):\n",
    "        aprox += ((-1) ** i) * (((x ** (2 * i + 1)) / (math.factorial(2 * i + 1))))\n",
    "    return aprox\n",
    "\n",
    "#Función para encontrar el número de términos necesario para alcanzar el error\n",
    "\n",
    "def encontrar_n(x, error=0.001):\n",
    "    n = 1\n",
    "    diferencia = error + 1  \n",
    "    while diferencia > error:\n",
    "        aprox = aprox_sin(x, n)\n",
    "        seno_real = math.sin(x)\n",
    "        diferencia = abs(seno_real - aprox) / abs(seno_real)\n",
    "        n += 1\n",
    "    return n - 1, aprox, error  # Se devuelve también el valor de error\n",
    "\n",
    "#Se encargan de llamar a la funcion \n",
    "\n",
    "n, aprox, error = encontrar_n(x)  # Se almacena el valor de error retornado por encontrar_n\n",
    "seno_real = math.sin(x)\n",
    "diferencia = abs(seno_real - aprox)\n",
    "\n",
    "print (\"Aproximación de la función seno: \" + str(aprox)+ \", valor real de la función seno: \" + str(seno_real) + \", su diferencia es \" +str(diferencia) + \" y el valor de n para alcanzar el error de \" + str(error) + \" : \"+ str(n) )"
   ]
  },
  {
   "cell_type": "markdown",
   "metadata": {},
   "source": [
    "10. Diseñar una función que permita calcular una aproximación de la función arcotangente alrededor de 0 para cualquier valor x en el rango [-1, 1], utilizando los primeros n términos de la serie de Maclaurin. Nota: use math para traer la función arctan y mostrar la diferencia entre el valor real y la aproximación.\n"
   ]
  },
  {
   "cell_type": "code",
   "execution_count": null,
   "metadata": {},
   "outputs": [],
   "source": [
    "import math\n",
    "\n",
    "x = float(input(\"Ingrese el valor de x en el rango [-1, 1]: \"))\n",
    "\n",
    "#Función para aproximar la función arcotangente\n",
    "\n",
    "def aprox_arctan(x, n):\n",
    "\n",
    "    aprox = 0\n",
    "\n",
    "    #Repetir sobre los primeros n términos de la serie de Maclaurin\n",
    "\n",
    "    for i in range(n):\n",
    "        aprox += (((-1) ** i) * ((x ** (2 * i + 1)) / (2 * i + 1)))\n",
    "    return aprox\n",
    "\n",
    "error = 0.001\n",
    "\n",
    "n = 1\n",
    "\n",
    "#Bucle encargado de repetirse hasta que la diferencia entre la aproximación y el valor real sea menor que el margen de error\n",
    "\n",
    "while True:\n",
    "    aprox = aprox_arctan(x, n)\n",
    "    arct_real = math.atan(x)\n",
    "    diferencia = abs(aprox - arct_real)\n",
    "\n",
    "    if diferencia < error:\n",
    "        break\n",
    "\n",
    "    n += 1\n",
    "\n",
    "print (\"Aproximación de la función Arcotangente es: \" + str(aprox)+ \", valor real de la función seno: \" + str(arct_real) + \", su diferencia es \" +str(diferencia) + \" y el valor de n para alcanzar el error de \" + str(error) + \" : \"+ str(n) )"
   ]
  }
 ],
 "metadata": {
  "kernelspec": {
   "display_name": "Python 3",
   "language": "python",
   "name": "python3"
  },
  "language_info": {
   "codemirror_mode": {
    "name": "ipython",
    "version": 3
   },
   "file_extension": ".py",
   "mimetype": "text/x-python",
   "name": "python",
   "nbconvert_exporter": "python",
   "pygments_lexer": "ipython3",
   "version": "3.12.2"
  }
 },
 "nbformat": 4,
 "nbformat_minor": 2
}
